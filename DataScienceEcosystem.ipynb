{
 "cells": [
  {
   "cell_type": "code",
   "execution_count": 1,
   "id": "0e53fdc0",
   "metadata": {},
   "outputs": [],
   "source": [
    "# Data Science Tools and Ecosystem\n"
   ]
  },
  {
   "cell_type": "code",
   "execution_count": 3,
   "id": "3da420ec",
   "metadata": {},
   "outputs": [
    {
     "name": "stdout",
     "output_type": "stream",
     "text": [
      "# Data Science Tools and Ecosystem\n"
     ]
    }
   ],
   "source": [
    "# Create a markdown cell with the title Data Science Tools and Ecosystem using H1 style heading.\n",
    "\n",
    "markdown_title = \"# Data Science Tools and Ecosystem\"\n",
    "print(markdown_title)\n"
   ]
  },
  {
   "cell_type": "code",
   "execution_count": 4,
   "id": "e6239f8d",
   "metadata": {},
   "outputs": [
    {
     "name": "stdout",
     "output_type": "stream",
     "text": [
      "In this notebook, Data Science Tools and Ecosystem are summarized.\n"
     ]
    }
   ],
   "source": [
    "# Create a markdown cell for an introduction\n",
    "\n",
    "intro_sentence = \"In this notebook, Data Science Tools and Ecosystem are summarized.\"\n",
    "print(intro_sentence)\n"
   ]
  },
  {
   "cell_type": "code",
   "execution_count": 5,
   "id": "ea420161",
   "metadata": {},
   "outputs": [
    {
     "name": "stdout",
     "output_type": "stream",
     "text": [
      "Some of the popular languages that Data Scientists use are:\n",
      "\n",
      "1. Python\n",
      "2. R\n",
      "3. SQL\n",
      "4. Julia\n",
      "5. Scala\n",
      "\n"
     ]
    }
   ],
   "source": [
    "# Create a markdown cell to list data science languages\n",
    "\n",
    "overview_line = \"Some of the popular languages that Data Scientists use are:\"\n",
    "languages_list = [\n",
    "    \"Python\",\n",
    "    \"R\",\n",
    "    \"SQL\",\n",
    "    \"Julia\",\n",
    "    \"Scala\"\n",
    "]\n",
    "\n",
    "markdown_cell = f\"{overview_line}\\n\\n\"\n",
    "for index, language in enumerate(languages_list, start=1):\n",
    "    markdown_cell += f\"{index}. {language}\\n\"\n",
    "\n",
    "print(markdown_cell)\n"
   ]
  },
  {
   "cell_type": "code",
   "execution_count": 6,
   "id": "4afb1226",
   "metadata": {},
   "outputs": [
    {
     "name": "stdout",
     "output_type": "stream",
     "text": [
      "1. NumPy\n",
      "2. pandas\n",
      "3. matplotlib\n",
      "4. scikit-learn\n",
      "5. TensorFlow\n"
     ]
    }
   ],
   "source": [
    "# Overview: Some of the commonly used libraries used by Data Scientists include:\n",
    "# Below this line add an ordered list listing 3 (or more) commonly used libraries in data science.\n",
    "\n",
    "data_science_libraries = [\n",
    "    \"NumPy\",\n",
    "    \"pandas\",\n",
    "    \"matplotlib\",\n",
    "    \"scikit-learn\",\n",
    "    \"TensorFlow\"\n",
    "]\n",
    "\n",
    "for index, library in enumerate(data_science_libraries, start=1):\n",
    "    print(f\"{index}. {library}\")\n"
   ]
  },
  {
   "cell_type": "code",
   "execution_count": 7,
   "id": "473fb438",
   "metadata": {},
   "outputs": [
    {
     "name": "stdout",
     "output_type": "stream",
     "text": [
      "| Data Science Tools |\n",
      "|---------------------|\n",
      "| Jupyter Notebook    |\n",
      "| RStudio             |\n",
      "| Spyder              |\n"
     ]
    }
   ],
   "source": [
    "# Create a markdown cell with a table of Data Science tools\n",
    "\n",
    "markdown_table = \"| Data Science Tools |\\n|---------------------|\\n| Jupyter Notebook    |\\n| RStudio             |\\n| Spyder              |\"\n",
    "print(markdown_table)\n"
   ]
  },
  {
   "cell_type": "code",
   "execution_count": 8,
   "id": "e76bc888",
   "metadata": {},
   "outputs": [
    {
     "name": "stdout",
     "output_type": "stream",
     "text": [
      "### Below are a few examples of evaluating arithmetic expressions in Python.\n"
     ]
    }
   ],
   "source": [
    "# Create a markdown cell introducing arithmetic expression examples\n",
    "\n",
    "markdown_intro = \"### Below are a few examples of evaluating arithmetic expressions in Python.\"\n",
    "print(markdown_intro)\n"
   ]
  },
  {
   "cell_type": "code",
   "execution_count": 9,
   "id": "6c36be07",
   "metadata": {},
   "outputs": [
    {
     "name": "stdout",
     "output_type": "stream",
     "text": [
      "17\n"
     ]
    }
   ],
   "source": [
    "# This is a simple arithmetic expression to multiply then add integers.\n",
    "result = (3 * 4) + 5\n",
    "print(result)\n"
   ]
  },
  {
   "cell_type": "code",
   "execution_count": 10,
   "id": "73f5ff57",
   "metadata": {},
   "outputs": [
    {
     "name": "stdout",
     "output_type": "stream",
     "text": [
      "3.3333333333333335\n"
     ]
    }
   ],
   "source": [
    "# This will convert 200 minutes to hours by dividing by 60.\n",
    "minutes = 200\n",
    "hours = minutes / 60\n",
    "print(hours)\n"
   ]
  },
  {
   "cell_type": "code",
   "execution_count": 11,
   "id": "b423a4d4",
   "metadata": {},
   "outputs": [
    {
     "name": "stdout",
     "output_type": "stream",
     "text": [
      "**Objectives:**\n",
      "- List popular languages for Data Science.\n",
      "- Summarize commonly used libraries in Data Science.\n",
      "- Introduce common Data Science tools.\n",
      "- Demonstrate evaluation of arithmetic expressions in Python.\n",
      "- Illustrate conversion of units (e.g., minutes to hours) in Python.\n"
     ]
    }
   ],
   "source": [
    "# Insert a markdown cell to list Objectives\n",
    "\n",
    "markdown_objectives = \"**Objectives:**\\n- List popular languages for Data Science.\\n- Summarize commonly used libraries in Data Science.\\n- Introduce common Data Science tools.\\n- Demonstrate evaluation of arithmetic expressions in Python.\\n- Illustrate conversion of units (e.g., minutes to hours) in Python.\"\n",
    "print(markdown_objectives)\n"
   ]
  },
  {
   "cell_type": "code",
   "execution_count": 12,
   "id": "314d4eb9",
   "metadata": {},
   "outputs": [
    {
     "name": "stdout",
     "output_type": "stream",
     "text": [
      "## Author\n",
      "SURESH KUMAR K\n"
     ]
    }
   ],
   "source": [
    "# Create a markdown cell to indicate the Author's name\n",
    "\n",
    "author_info = \"## Author\\nSURESH KUMAR K\"\n",
    "print(author_info)\n"
   ]
  },
  {
   "cell_type": "code",
   "execution_count": null,
   "id": "27b2ebdf",
   "metadata": {},
   "outputs": [],
   "source": []
  }
 ],
 "metadata": {
  "kernelspec": {
   "display_name": "Python 3 (ipykernel)",
   "language": "python",
   "name": "python3"
  },
  "language_info": {
   "codemirror_mode": {
    "name": "ipython",
    "version": 3
   },
   "file_extension": ".py",
   "mimetype": "text/x-python",
   "name": "python",
   "nbconvert_exporter": "python",
   "pygments_lexer": "ipython3",
   "version": "3.10.9"
  }
 },
 "nbformat": 4,
 "nbformat_minor": 5
}
